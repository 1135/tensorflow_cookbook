{
 "cells": [
  {
   "cell_type": "markdown",
   "metadata": {},
   "source": [
    "# Lasso and Ridge Regression\n",
    "\n",
    "This function shows how to use TensorFlow to solve lasso or ridge regression for $\\boldsymbol{y} = \\boldsymbol{Ax} + \\boldsymbol{b}$\n",
    "\n",
    "We will use the iris data, specifically: $\\boldsymbol{y}$ = Sepal Length, $\\boldsymbol{x}$ = Petal Width"
   ]
  },
  {
   "cell_type": "code",
   "execution_count": 164,
   "metadata": {
    "collapsed": true
   },
   "outputs": [],
   "source": [
    "# import required libraries\n",
    "import matplotlib.pyplot as plt\n",
    "import numpy as np\n",
    "import tensorflow as tf\n",
    "from sklearn import datasets\n",
    "from tensorflow.python.framework import ops\n",
    "ops.reset_default_graph()"
   ]
  },
  {
   "cell_type": "code",
   "execution_count": 165,
   "metadata": {
    "collapsed": true
   },
   "outputs": [],
   "source": [
    "# Create graph\n",
    "sess = tf.Session()"
   ]
  },
  {
   "cell_type": "markdown",
   "metadata": {},
   "source": [
    "## Load iris data"
   ]
  },
  {
   "cell_type": "code",
   "execution_count": 166,
   "metadata": {
    "collapsed": true
   },
   "outputs": [],
   "source": [
    "# iris.data = [(Sepal Length, Sepal Width, Petal Length, Petal Width)]\n",
    "iris = datasets.load_iris()\n",
    "x_vals = np.array([x[3] for x in iris.data])\n",
    "y_vals = np.array([y[0] for y in iris.data])"
   ]
  },
  {
   "cell_type": "markdown",
   "metadata": {},
   "source": [
    "## Model Parameters"
   ]
  },
  {
   "cell_type": "code",
   "execution_count": 167,
   "metadata": {
    "collapsed": true
   },
   "outputs": [],
   "source": [
    "# Declare batch size\n",
    "batch_size = 5\n",
    "\n",
    "# Initialize placeholders\n",
    "x_data = tf.placeholder(shape=[None, 1], dtype=tf.float32)\n",
    "y_target = tf.placeholder(shape=[None, 1], dtype=tf.float32)\n",
    "\n",
    "# make results reproducible\n",
    "seed = 13\n",
    "np.random.seed(seed)\n",
    "tf.set_random_seed(seed)\n",
    "\n",
    "# Create variables for linear regression\n",
    "A = tf.Variable(tf.random_normal(shape=[1,1]))\n",
    "b = tf.Variable(tf.random_normal(shape=[1,1]))"
   ]
  },
  {
   "cell_type": "code",
   "execution_count": 168,
   "metadata": {
    "collapsed": true
   },
   "outputs": [],
   "source": [
    "# Declare model operations\n",
    "model_output = tf.add(tf.matmul(x_data, A), b)"
   ]
  },
  {
   "cell_type": "markdown",
   "metadata": {},
   "source": [
    "## Loss Functions:\n",
    "\n",
    "### LASSO Loss Function"
   ]
  },
  {
   "cell_type": "code",
   "execution_count": 169,
   "metadata": {
    "collapsed": true
   },
   "outputs": [],
   "source": [
    "# Declare Lasso loss function\n",
    "# Lasso Loss = L2_Loss + heavyside_step,\n",
    "# Where heavyside_step ~ 0 if A < constant, otherwise ~ 99\n",
    "\n",
    "# For Lasso, uncomment the following four lines (and comment out the Ridge Regression loss below)\n",
    "lasso_param = tf.constant(0.9)\n",
    "heavyside_step = tf.truediv(1., tf.add(1., tf.exp(tf.multiply(-100., tf.subtract(A, lasso_param)))))\n",
    "regularization_param = tf.multiply(heavyside_step, 99.)\n",
    "loss = tf.add(tf.reduce_mean(tf.square(y_target - model_output)), regularization_param)"
   ]
  },
  {
   "cell_type": "markdown",
   "metadata": {},
   "source": [
    "### Ridge Loss Function"
   ]
  },
  {
   "cell_type": "code",
   "execution_count": 170,
   "metadata": {
    "collapsed": true
   },
   "outputs": [],
   "source": [
    "# Declare the Ridge loss function\n",
    "# Ridge loss = L2_loss + L2 norm of slope\n",
    "\n",
    "# For Ridge, uncommnet the following three lines (and comment out the LASSO regression loss above)\n",
    "#ridge_param = tf.constant(1.)\n",
    "#ridge_loss = tf.reduce_mean(tf.square(A))\n",
    "#loss = tf.expand_dims(tf.add(tf.reduce_mean(tf.square(y_target - model_output)), tf.multiply(ridge_param, ridge_loss)), 0)"
   ]
  },
  {
   "cell_type": "markdown",
   "metadata": {},
   "source": [
    "## Optmizer"
   ]
  },
  {
   "cell_type": "code",
   "execution_count": 171,
   "metadata": {
    "collapsed": true
   },
   "outputs": [],
   "source": [
    "# Declare optimizer\n",
    "my_opt = tf.train.GradientDescentOptimizer(0.0001)\n",
    "train_step = my_opt.minimize(loss)"
   ]
  },
  {
   "cell_type": "markdown",
   "metadata": {},
   "source": [
    "## Run regression"
   ]
  },
  {
   "cell_type": "code",
   "execution_count": 172,
   "metadata": {
    "collapsed": false
   },
   "outputs": [
    {
     "name": "stdout",
     "output_type": "stream",
     "text": [
      "Before A = [[-0.50431412]] b = [[-0.84797448]]\n",
      "[[ 1.2]\n",
      " [ 1.3]\n",
      " [ 0.4]\n",
      " [ 1.1]\n",
      " [ 1.8]]\n",
      "[[ 5.8]\n",
      " [ 6.4]\n",
      " [ 5.4]\n",
      " [ 5.1]\n",
      " [ 6.2]]\n",
      "Step #1 A = [[ nan]] b = [[-0.84653187]]\n",
      "Loss = [[ nan]]\n",
      "regularization_param=[[ nan]]\n",
      "heavyside step=[[ nan]]\n",
      "\n",
      "\n",
      "[[ 1.3]\n",
      " [ 1.2]\n",
      " [ 1.4]\n",
      " [ 1.5]\n",
      " [ 0.2]]\n",
      "[[ 6.4]\n",
      " [ 6.1]\n",
      " [ 6.6]\n",
      " [ 6.9]\n",
      " [ 4.7]]\n",
      "Step #2 A = [[ nan]] b = [[ nan]]\n",
      "Loss = [[ nan]]\n",
      "regularization_param=[[ nan]]\n",
      "heavyside step=[[ nan]]\n",
      "\n",
      "\n",
      "[[ 2. ]\n",
      " [ 1.8]\n",
      " [ 2. ]\n",
      " [ 2.1]\n",
      " [ 1.4]]\n",
      "[[ 6.5]\n",
      " [ 5.9]\n",
      " [ 6.5]\n",
      " [ 6.9]\n",
      " [ 6.6]]\n",
      "Step #3 A = [[ nan]] b = [[ nan]]\n",
      "Loss = [[ nan]]\n",
      "regularization_param=[[ nan]]\n",
      "heavyside step=[[ nan]]\n",
      "\n",
      "\n",
      "[[ 0.2]\n",
      " [ 1.9]\n",
      " [ 0.2]\n",
      " [ 0.2]\n",
      " [ 0.3]]\n",
      "[[ 4.9]\n",
      " [ 6.3]\n",
      " [ 4.8]\n",
      " [ 4.8]\n",
      " [ 5. ]]\n",
      "Step #4 A = [[ nan]] b = [[ nan]]\n",
      "Loss = [[ nan]]\n",
      "regularization_param=[[ nan]]\n",
      "heavyside step=[[ nan]]\n",
      "\n",
      "\n",
      "[[ 1.4]\n",
      " [ 1.3]\n",
      " [ 0.2]\n",
      " [ 0.1]\n",
      " [ 2.2]]\n",
      "[[ 6.8]\n",
      " [ 6.6]\n",
      " [ 4.6]\n",
      " [ 4.9]\n",
      " [ 7.7]]\n",
      "Step #5 A = [[ nan]] b = [[ nan]]\n",
      "Loss = [[ nan]]\n",
      "regularization_param=[[ nan]]\n",
      "heavyside step=[[ nan]]\n",
      "\n",
      "\n"
     ]
    }
   ],
   "source": [
    "# Initialize variables\n",
    "init = tf.global_variables_initializer()\n",
    "sess.run(init)\n",
    "\n",
    "print('Before A = ' + str(sess.run(A)) + ' b = ' + str(sess.run(b)))\n",
    "\n",
    "# Training loop\n",
    "loss_vec = []\n",
    "for i in range(5):\n",
    "    rand_index = np.random.choice(len(x_vals), size=batch_size)\n",
    "    rand_x = np.transpose([x_vals[rand_index]])\n",
    "    rand_y = np.transpose([y_vals[rand_index]])\n",
    "    print(rand_x)\n",
    "    print(rand_y)\n",
    "    sess.run(train_step, feed_dict={x_data: rand_x, y_target: rand_y})\n",
    "    temp_loss = sess.run(loss, feed_dict={x_data: rand_x, y_target: rand_y})\n",
    "    loss_vec.append(temp_loss[0])\n",
    "    if (i+1)%1==0:\n",
    "        print('Step #' + str(i+1) + ' A = ' + str(sess.run(A)) + ' b = ' + str(sess.run(b)))\n",
    "        print('Loss = ' + str(temp_loss))\n",
    "        print('regularization_param='+ str(regularization_param.eval(session=sess)))\n",
    "        print('heavyside step=' + str(heavyside_step.eval(session=sess)))\n",
    "        #print('model_output=' + str(model_output.eval(session=sess)))\n",
    "        #print('y_target=' + str(y_target.eval(session=sess)))\n",
    "        print('\\n')"
   ]
  },
  {
   "cell_type": "code",
   "execution_count": null,
   "metadata": {
    "collapsed": true
   },
   "outputs": [],
   "source": []
  },
  {
   "cell_type": "code",
   "execution_count": 160,
   "metadata": {
    "collapsed": true
   },
   "outputs": [],
   "source": [
    "# Get the optimal coefficients\n",
    "[slope] = sess.run(A)\n",
    "[y_intercept] = sess.run(b)\n",
    "\n",
    "# Get best fit line\n",
    "best_fit = []\n",
    "for i in x_vals:\n",
    "  best_fit.append(slope*i+y_intercept)"
   ]
  },
  {
   "cell_type": "code",
   "execution_count": 161,
   "metadata": {
    "collapsed": false
   },
   "outputs": [
    {
     "data": {
      "image/png": "[encoded data removed]",
      "text/plain": [
       "<matplotlib.figure.Figure at 0x1181286a0>"
      ]
     },
     "metadata": {},
     "output_type": "display_data"
    },
    {
     "data": {
      "image/png": "[encoded data removed]",
      "text/plain": [
       "<matplotlib.figure.Figure at 0x117939780>"
      ]
     },
     "metadata": {},
     "output_type": "display_data"
    }
   ],
   "source": [
    "%matplotlib inline\n",
    "# Plot the result\n",
    "plt.plot(x_vals, y_vals, 'o', label='Data Points')\n",
    "plt.plot(x_vals, best_fit, 'r-', label='Best fit line', linewidth=3)\n",
    "plt.legend(loc='upper left')\n",
    "plt.title('Sepal Length vs Pedal Width')\n",
    "plt.xlabel('Pedal Width')\n",
    "plt.ylabel('Sepal Length')\n",
    "plt.show()\n",
    "\n",
    "# Plot loss over time\n",
    "plt.plot(loss_vec, 'k-')\n",
    "plt.title('L2 Loss per Generation')\n",
    "plt.xlabel('Generation')\n",
    "plt.ylabel('L2 Loss')\n",
    "plt.show()"
   ]
  },
  {
   "cell_type": "code",
   "execution_count": null,
   "metadata": {
    "collapsed": true
   },
   "outputs": [],
   "source": []
  }
 ],
 "metadata": {
  "anaconda-cloud": {},
  "kernelspec": {
   "display_name": "Python [conda env:tf-cpu]",
   "language": "python",
   "name": "conda-env-tf-cpu-py"
  },
  "language_info": {
   "codemirror_mode": {
    "name": "ipython",
    "version": 3
   },
   "file_extension": ".py",
   "mimetype": "text/x-python",
   "name": "python",
   "nbconvert_exporter": "python",
   "pygments_lexer": "ipython3",
   "version": "3.5.2"
  }
 },
 "nbformat": 4,
 "nbformat_minor": 2
}
